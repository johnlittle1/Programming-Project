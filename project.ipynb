{
 "cells": [
  {
   "cell_type": "code",
   "execution_count": 9,
   "id": "92147de3-7c39-40d7-8435-ae183d6f234c",
   "metadata": {},
   "outputs": [
    {
     "ename": "ModuleNotFoundError",
     "evalue": "No module named 'streamlit'",
     "output_type": "error",
     "traceback": [
      "\u001b[0;31m---------------------------------------------------------------------------\u001b[0m",
      "\u001b[0;31mModuleNotFoundError\u001b[0m                       Traceback (most recent call last)",
      "Cell \u001b[0;32mIn[9], line 1\u001b[0m\n\u001b[0;32m----> 1\u001b[0m \u001b[38;5;28;01mimport\u001b[39;00m \u001b[38;5;21;01mstreamlit\u001b[39;00m \u001b[38;5;28;01mas\u001b[39;00m \u001b[38;5;21;01mst\u001b[39;00m\n\u001b[1;32m      3\u001b[0m \u001b[38;5;66;03m## user input key information from syllabus. creates a list of assignments and their corresponding weight \u001b[39;00m\n\u001b[1;32m      4\u001b[0m \u001b[38;5;28;01mdef\u001b[39;00m \u001b[38;5;21msyllabus_info\u001b[39m():\n",
      "\u001b[0;31mModuleNotFoundError\u001b[0m: No module named 'streamlit'"
     ]
    }
   ],
   "source": [
    "import streamlit as st\n",
    "\n",
    "## user input key information from syllabus. creates a list of assignments and their corresponding weight \n",
    "def syllabus_info():\n",
    "    assignments = []\n",
    "    assignment = st.text_input('Enter each assignment name (Do not include final.). Type Q to quit.')\n",
    "    while assignment != 'Q':\n",
    "        weight = st.number_input('Enter the assignment weight as a decimal')\n",
    "        assignments.append({'assignment':assignment, 'weight':weight})\n",
    "        assignment = st.text_input('Enter each assignment name (Do not include final). Type Q to quit.')\n",
    "    final_weight = st.number_input('What percent of your grade is the final exam worth?')\n",
    "    desired_grade = st.number_input('What is your desired grade in this class (decimal)?')\n",
    "    return assignments, final_weight, desired_grade\n",
    "\n",
    "## function call to use assignment list in enter_grades\n",
    "assignments, final_weight, desired_grade = syllabus_info()\n",
    "\n",
    "## allows user to enter all their grades for finished assignments \n",
    "def enter_grades(assignments):\n",
    "    for assignment in assignments:\n",
    "        grade = st.number_input(f\"Enter the grade for {assignment['assignment']}.\")\n",
    "        if grade:\n",
    "            assignment['grade'] = grade\n",
    "\n",
    "## function call to update assignment list with assignment grades \n",
    "enter_grades(assignments)\n",
    "\n",
    "## calculates current grade of user \n",
    "def calc_current_grade(assignments):\n",
    "    weighted_grade = 0\n",
    "    total_weight = 0\n",
    "    for assignment in assignments:\n",
    "        if 'grade' in assignment:\n",
    "            weighted_grade += assignment['grade'] * assignment['weight']\n",
    "            total_weight += assignment['weight']\n",
    "        current_grade = weighted_grade / total_weight\n",
    "    return current_grade\n",
    "\n",
    "## function call to use current grade in next calculations. prints info to user \n",
    "current_grade = calc_current_grade(assignments)\n",
    "st.write(f\"Your current grade in this class is {round(current_grade*100,2)}%.\")\n",
    "\n",
    "## uses prior information to calculate what the user needs to get on their final exam to get their desired grade in the course\n",
    "def final_grade_needed(final_weight, desired_grade, current_grade):\n",
    "    required_grade = (desired_grade - (1 - final_weight) * current_grade) / final_weight\n",
    "    return required_grade\n",
    "\n",
    "## function call to find what user needs on final. prints info to user \n",
    "required_grade = final_grade_needed(final_weight, desired_grade, current_grade)\n",
    "st.write(f\"You will need to get {round(required_grade*100,2)}% on the final to achieve your goal.\")"
   ]
  },
  {
   "cell_type": "code",
   "execution_count": null,
   "id": "a0ebe412-397d-41c3-ad8d-8b522d2664a5",
   "metadata": {},
   "outputs": [],
   "source": []
  }
 ],
 "metadata": {
  "kernelspec": {
   "display_name": "anaconda-panel-2023.05-py310",
   "language": "python",
   "name": "conda-env-anaconda-panel-2023.05-py310-py"
  },
  "language_info": {
   "codemirror_mode": {
    "name": "ipython",
    "version": 3
   },
   "file_extension": ".py",
   "mimetype": "text/x-python",
   "name": "python",
   "nbconvert_exporter": "python",
   "pygments_lexer": "ipython3",
   "version": "3.11.5"
  }
 },
 "nbformat": 4,
 "nbformat_minor": 5
}
